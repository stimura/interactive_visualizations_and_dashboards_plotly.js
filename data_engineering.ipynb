{
 "cells": [
  {
   "cell_type": "markdown",
   "metadata": {},
   "source": [
    "## Data Engineering"
   ]
  },
  {
   "cell_type": "code",
   "execution_count": 1,
   "metadata": {},
   "outputs": [],
   "source": [
    "import warnings\n",
    "warnings.filterwarnings('ignore')"
   ]
  },
  {
   "cell_type": "code",
   "execution_count": 2,
   "metadata": {},
   "outputs": [],
   "source": [
    "import numpy as np\n",
    "import pandas as pd\n",
    "import matplotlib.pyplot as plt\n",
    "import sqlalchemy\n",
    "from sqlalchemy.ext.automap import automap_base\n",
    "from sqlalchemy.orm import Session\n",
    "from sqlalchemy import create_engine, inspect\n",
    "from sqlalchemy import func, desc\n",
    "from matplotlib.ticker import NullFormatter\n",
    "import matplotlib.dates as mdates\n",
    "from datetime import datetime, timedelta\n",
    "import seaborn as sns\n",
    "from flask import Flask, jsonify\n",
    "import datetime as dt"
   ]
  },
  {
   "cell_type": "code",
   "execution_count": 3,
   "metadata": {},
   "outputs": [],
   "source": [
    "engine = create_engine(\"sqlite:///belly_button_biodiversity.sqlite\", echo=False)"
   ]
  },
  {
   "cell_type": "code",
   "execution_count": 4,
   "metadata": {},
   "outputs": [
    {
     "data": {
      "text/plain": [
       "['otu', 'samples', 'samples_metadata']"
      ]
     },
     "execution_count": 4,
     "metadata": {},
     "output_type": "execute_result"
    }
   ],
   "source": [
    "Base = automap_base()\n",
    "Base.prepare(engine, reflect=True)\n",
    "Base.classes.keys()"
   ]
  },
  {
   "cell_type": "code",
   "execution_count": 5,
   "metadata": {},
   "outputs": [],
   "source": [
    "Otu = Base.classes.otu\n",
    "Samples = Base.classes.samples\n",
    "Samples_MD = Base.classes.samples_metadata"
   ]
  },
  {
   "cell_type": "code",
   "execution_count": 6,
   "metadata": {},
   "outputs": [],
   "source": [
    "session = Session(engine)"
   ]
  },
  {
   "cell_type": "code",
   "execution_count": 7,
   "metadata": {},
   "outputs": [
    {
     "data": {
      "text/html": [
       "<div>\n",
       "<style scoped>\n",
       "    .dataframe tbody tr th:only-of-type {\n",
       "        vertical-align: middle;\n",
       "    }\n",
       "\n",
       "    .dataframe tbody tr th {\n",
       "        vertical-align: top;\n",
       "    }\n",
       "\n",
       "    .dataframe thead th {\n",
       "        text-align: right;\n",
       "    }\n",
       "</style>\n",
       "<table border=\"1\" class=\"dataframe\">\n",
       "  <thead>\n",
       "    <tr style=\"text-align: right;\">\n",
       "      <th></th>\n",
       "      <th>otu_id</th>\n",
       "      <th>BB_940</th>\n",
       "      <th>BB_941</th>\n",
       "      <th>BB_943</th>\n",
       "      <th>BB_944</th>\n",
       "      <th>BB_945</th>\n",
       "      <th>BB_946</th>\n",
       "      <th>BB_947</th>\n",
       "      <th>BB_948</th>\n",
       "      <th>BB_949</th>\n",
       "      <th>...</th>\n",
       "      <th>BB_1562</th>\n",
       "      <th>BB_1563</th>\n",
       "      <th>BB_1564</th>\n",
       "      <th>BB_1572</th>\n",
       "      <th>BB_1573</th>\n",
       "      <th>BB_1574</th>\n",
       "      <th>BB_1576</th>\n",
       "      <th>BB_1577</th>\n",
       "      <th>BB_1581</th>\n",
       "      <th>BB_1601</th>\n",
       "    </tr>\n",
       "  </thead>\n",
       "  <tbody>\n",
       "    <tr>\n",
       "      <th>0</th>\n",
       "      <td>1</td>\n",
       "      <td>0</td>\n",
       "      <td>0</td>\n",
       "      <td>0</td>\n",
       "      <td>0</td>\n",
       "      <td>0</td>\n",
       "      <td>0</td>\n",
       "      <td>0</td>\n",
       "      <td>0</td>\n",
       "      <td>0</td>\n",
       "      <td>...</td>\n",
       "      <td>0</td>\n",
       "      <td>0</td>\n",
       "      <td>0</td>\n",
       "      <td>0</td>\n",
       "      <td>0</td>\n",
       "      <td>0</td>\n",
       "      <td>0</td>\n",
       "      <td>0</td>\n",
       "      <td>0</td>\n",
       "      <td>0</td>\n",
       "    </tr>\n",
       "    <tr>\n",
       "      <th>1</th>\n",
       "      <td>2</td>\n",
       "      <td>0</td>\n",
       "      <td>0</td>\n",
       "      <td>0</td>\n",
       "      <td>0</td>\n",
       "      <td>0</td>\n",
       "      <td>0</td>\n",
       "      <td>0</td>\n",
       "      <td>0</td>\n",
       "      <td>0</td>\n",
       "      <td>...</td>\n",
       "      <td>0</td>\n",
       "      <td>0</td>\n",
       "      <td>0</td>\n",
       "      <td>0</td>\n",
       "      <td>0</td>\n",
       "      <td>0</td>\n",
       "      <td>0</td>\n",
       "      <td>0</td>\n",
       "      <td>0</td>\n",
       "      <td>0</td>\n",
       "    </tr>\n",
       "    <tr>\n",
       "      <th>2</th>\n",
       "      <td>3</td>\n",
       "      <td>0</td>\n",
       "      <td>0</td>\n",
       "      <td>0</td>\n",
       "      <td>0</td>\n",
       "      <td>0</td>\n",
       "      <td>0</td>\n",
       "      <td>0</td>\n",
       "      <td>0</td>\n",
       "      <td>0</td>\n",
       "      <td>...</td>\n",
       "      <td>0</td>\n",
       "      <td>0</td>\n",
       "      <td>0</td>\n",
       "      <td>0</td>\n",
       "      <td>0</td>\n",
       "      <td>0</td>\n",
       "      <td>0</td>\n",
       "      <td>0</td>\n",
       "      <td>0</td>\n",
       "      <td>0</td>\n",
       "    </tr>\n",
       "    <tr>\n",
       "      <th>3</th>\n",
       "      <td>4</td>\n",
       "      <td>0</td>\n",
       "      <td>0</td>\n",
       "      <td>0</td>\n",
       "      <td>0</td>\n",
       "      <td>0</td>\n",
       "      <td>0</td>\n",
       "      <td>0</td>\n",
       "      <td>0</td>\n",
       "      <td>0</td>\n",
       "      <td>...</td>\n",
       "      <td>0</td>\n",
       "      <td>0</td>\n",
       "      <td>0</td>\n",
       "      <td>0</td>\n",
       "      <td>0</td>\n",
       "      <td>0</td>\n",
       "      <td>0</td>\n",
       "      <td>0</td>\n",
       "      <td>0</td>\n",
       "      <td>0</td>\n",
       "    </tr>\n",
       "    <tr>\n",
       "      <th>4</th>\n",
       "      <td>5</td>\n",
       "      <td>0</td>\n",
       "      <td>0</td>\n",
       "      <td>0</td>\n",
       "      <td>0</td>\n",
       "      <td>0</td>\n",
       "      <td>0</td>\n",
       "      <td>0</td>\n",
       "      <td>0</td>\n",
       "      <td>0</td>\n",
       "      <td>...</td>\n",
       "      <td>0</td>\n",
       "      <td>0</td>\n",
       "      <td>0</td>\n",
       "      <td>0</td>\n",
       "      <td>0</td>\n",
       "      <td>0</td>\n",
       "      <td>0</td>\n",
       "      <td>0</td>\n",
       "      <td>0</td>\n",
       "      <td>0</td>\n",
       "    </tr>\n",
       "  </tbody>\n",
       "</table>\n",
       "<p>5 rows × 154 columns</p>\n",
       "</div>"
      ],
      "text/plain": [
       "   otu_id  BB_940  BB_941  BB_943  BB_944  BB_945  BB_946  BB_947  BB_948  \\\n",
       "0       1       0       0       0       0       0       0       0       0   \n",
       "1       2       0       0       0       0       0       0       0       0   \n",
       "2       3       0       0       0       0       0       0       0       0   \n",
       "3       4       0       0       0       0       0       0       0       0   \n",
       "4       5       0       0       0       0       0       0       0       0   \n",
       "\n",
       "   BB_949   ...     BB_1562  BB_1563  BB_1564  BB_1572  BB_1573  BB_1574  \\\n",
       "0       0   ...           0        0        0        0        0        0   \n",
       "1       0   ...           0        0        0        0        0        0   \n",
       "2       0   ...           0        0        0        0        0        0   \n",
       "3       0   ...           0        0        0        0        0        0   \n",
       "4       0   ...           0        0        0        0        0        0   \n",
       "\n",
       "   BB_1576  BB_1577  BB_1581  BB_1601  \n",
       "0        0        0        0        0  \n",
       "1        0        0        0        0  \n",
       "2        0        0        0        0  \n",
       "3        0        0        0        0  \n",
       "4        0        0        0        0  \n",
       "\n",
       "[5 rows x 154 columns]"
      ]
     },
     "execution_count": 7,
     "metadata": {},
     "output_type": "execute_result"
    }
   ],
   "source": [
    "samples_query = session.query(Samples)\n",
    "all_samples = pd.read_sql(samples_query.statement, samples_query.session.bind)\n",
    "all_samples.head()"
   ]
  },
  {
   "cell_type": "markdown",
   "metadata": {},
   "source": [
    "### Sample Names"
   ]
  },
  {
   "cell_type": "code",
   "execution_count": 8,
   "metadata": {},
   "outputs": [],
   "source": [
    "def get_sample_names():\n",
    "    samples_query = session.query(Samples)\n",
    "    samples_df = pd.read_sql(samples_query.statement, samples_query.session.bind)\n",
    "    return list(samples_df.columns[1:])"
   ]
  },
  {
   "cell_type": "markdown",
   "metadata": {},
   "source": [
    "### List of OTU Descriptions"
   ]
  },
  {
   "cell_type": "code",
   "execution_count": 9,
   "metadata": {},
   "outputs": [],
   "source": [
    "def otu_descriptions():\n",
    "    otu_query = session.query(Otu)\n",
    "    otu_df = pd.read_sql(otu_query.statement, otu_query.session.bind)\n",
    "    return list(otu_df['lowest_taxonomic_unit_found'].values)"
   ]
  },
  {
   "cell_type": "markdown",
   "metadata": {},
   "source": [
    "### MetaData for a given sample"
   ]
  },
  {
   "cell_type": "code",
   "execution_count": 21,
   "metadata": {},
   "outputs": [],
   "source": [
    "def get_metadata(sample): \n",
    "    nobs_data = int(sample[3:])\n",
    "    meta_query = session.query(Samples_MD)\n",
    "    meta_df = pd.read_sql(meta_query.statement, meta_query.session.bind)\n",
    "    target_sample = meta_df.loc[meta_df['SAMPLEID'] == nobs_data]\n",
    "    list_index = list(target_sample.index)\n",
    "    target_index = list_index[0]\n",
    "    target_sample_dict = {\n",
    "            'AGE' : int(target_sample['AGE'][target_index]),\n",
    "            'BBTYPE' : target_sample['BBTYPE'][target_index],\n",
    "            'ETHNICITY' : target_sample['ETHNICITY'][target_index],\n",
    "            'GENDER' : target_sample['GENDER'][target_index],\n",
    "            'LOCATION' : target_sample['LOCATION'][target_index],\n",
    "            'SAMPLEID': int(target_sample['SAMPLEID'][target_index])\n",
    "        }\n",
    "    return target_sample_dict"
   ]
  },
  {
   "cell_type": "code",
   "execution_count": 22,
   "metadata": {},
   "outputs": [
    {
     "data": {
      "text/plain": [
       "{'AGE': 24,\n",
       " 'BBTYPE': 'I',\n",
       " 'ETHNICITY': 'Caucasian',\n",
       " 'GENDER': 'F',\n",
       " 'LOCATION': 'Beaufort/NC',\n",
       " 'SAMPLEID': 940}"
      ]
     },
     "execution_count": 22,
     "metadata": {},
     "output_type": "execute_result"
    }
   ],
   "source": [
    "get_metadata('BB_940')"
   ]
  },
  {
   "cell_type": "markdown",
   "metadata": {},
   "source": [
    "### Weekly Washing Frequency (Number)"
   ]
  },
  {
   "cell_type": "code",
   "execution_count": 11,
   "metadata": {},
   "outputs": [],
   "source": [
    "def get_wfreq(sample):\n",
    "    nobs_data = int(sample[3:])\n",
    "    meta_query = session.query(Samples_MD)\n",
    "    meta_df = pd.read_sql(meta_query.statement, meta_query.session.bind)\n",
    "    target_sample = meta_df.loc[meta_df['SAMPLEID'] == nobs_data]\n",
    "    list_index = list(target_sample.index)\n",
    "    target_index = list_index[0]\n",
    "    wfreq = target_sample['WFREQ'][target_index]\n",
    "    return wfreq"
   ]
  },
  {
   "cell_type": "markdown",
   "metadata": {},
   "source": [
    "### OTU IDs and Sample Values for a given sample."
   ]
  },
  {
   "cell_type": "code",
   "execution_count": 15,
   "metadata": {},
   "outputs": [],
   "source": [
    "def get_sample_values(sample):\n",
    "    samples_query = session.query(Samples)\n",
    "    all_samples = pd.read_sql(samples_query.statement, samples_query.session.bind)\n",
    "    data = all_samples[['otu_id', sample]]\n",
    "    data = data.loc[data[sample]>0]\n",
    "    data.columns=['otu_id','samples']\n",
    "    data = data.sort_values('samples',ascending=False)\n",
    "\n",
    "    otu_ids = []\n",
    "    samples = []\n",
    "    for i in range(0,len(data)):\n",
    "        otu_ids.append(str(data['otu_id'].iloc[i]))\n",
    "        samples.append(str(data['samples'].iloc[i]))\n",
    "\n",
    "    sample_values_dict = [{\n",
    "           \"otu_id\" : otu_ids,\n",
    "           \"samples\" : samples\n",
    "    }]\n",
    "    return sample_values_dict"
   ]
  },
  {
   "cell_type": "code",
   "execution_count": null,
   "metadata": {},
   "outputs": [],
   "source": []
  },
  {
   "cell_type": "code",
   "execution_count": null,
   "metadata": {},
   "outputs": [],
   "source": []
  }
 ],
 "metadata": {
  "kernelspec": {
   "display_name": "Python 3",
   "language": "python",
   "name": "python3"
  },
  "language_info": {
   "codemirror_mode": {
    "name": "ipython",
    "version": 3
   },
   "file_extension": ".py",
   "mimetype": "text/x-python",
   "name": "python",
   "nbconvert_exporter": "python",
   "pygments_lexer": "ipython3",
   "version": "3.6.4"
  }
 },
 "nbformat": 4,
 "nbformat_minor": 2
}
